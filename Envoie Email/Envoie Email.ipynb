{
  "nbformat": 4,
  "nbformat_minor": 0,
  "metadata": {
    "colab": {
      "provenance": []
    },
    "kernelspec": {
      "name": "python3",
      "display_name": "Python 3"
    },
    "language_info": {
      "name": "python"
    }
  },
  "cells": [
    {
      "cell_type": "markdown",
      "source": [
        "**Importation des Bibliotheques**"
      ],
      "metadata": {
        "id": "mtycryNvDlAv"
      }
    },
    {
      "cell_type": "code",
      "source": [
        "! pip install email-to\n",
        "! pip install secure-smtplib"
      ],
      "metadata": {
        "colab": {
          "base_uri": "https://localhost:8080/"
        },
        "id": "lDeLHRVmFeEk",
        "outputId": "0c4b5d36-f2fe-4e19-aaad-045cae169bd5"
      },
      "execution_count": 1,
      "outputs": [
        {
          "output_type": "stream",
          "name": "stdout",
          "text": [
            "Looking in indexes: https://pypi.org/simple, https://us-python.pkg.dev/colab-wheels/public/simple/\n",
            "Collecting email-to\n",
            "  Downloading email_to-0.1.0-py2.py3-none-any.whl (7.1 kB)\n",
            "Requirement already satisfied: markdown in /usr/local/lib/python3.10/dist-packages (from email-to) (3.4.3)\n",
            "Collecting premailer (from email-to)\n",
            "  Downloading premailer-3.10.0-py2.py3-none-any.whl (19 kB)\n",
            "Requirement already satisfied: lxml in /usr/local/lib/python3.10/dist-packages (from premailer->email-to) (4.9.2)\n",
            "Collecting cssselect (from premailer->email-to)\n",
            "  Downloading cssselect-1.2.0-py2.py3-none-any.whl (18 kB)\n",
            "Collecting cssutils (from premailer->email-to)\n",
            "  Downloading cssutils-2.6.0-py3-none-any.whl (399 kB)\n",
            "\u001b[2K     \u001b[90m━━━━━━━━━━━━━━━━━━━━━━━━━━━━━━━━━━━━━━━\u001b[0m \u001b[32m399.7/399.7 kB\u001b[0m \u001b[31m7.2 MB/s\u001b[0m eta \u001b[36m0:00:00\u001b[0m\n",
            "\u001b[?25hRequirement already satisfied: requests in /usr/local/lib/python3.10/dist-packages (from premailer->email-to) (2.27.1)\n",
            "Requirement already satisfied: cachetools in /usr/local/lib/python3.10/dist-packages (from premailer->email-to) (5.3.0)\n",
            "Requirement already satisfied: urllib3<1.27,>=1.21.1 in /usr/local/lib/python3.10/dist-packages (from requests->premailer->email-to) (1.26.15)\n",
            "Requirement already satisfied: certifi>=2017.4.17 in /usr/local/lib/python3.10/dist-packages (from requests->premailer->email-to) (2022.12.7)\n",
            "Requirement already satisfied: charset-normalizer~=2.0.0 in /usr/local/lib/python3.10/dist-packages (from requests->premailer->email-to) (2.0.12)\n",
            "Requirement already satisfied: idna<4,>=2.5 in /usr/local/lib/python3.10/dist-packages (from requests->premailer->email-to) (3.4)\n",
            "Installing collected packages: cssutils, cssselect, premailer, email-to\n",
            "Successfully installed cssselect-1.2.0 cssutils-2.6.0 email-to-0.1.0 premailer-3.10.0\n",
            "Looking in indexes: https://pypi.org/simple, https://us-python.pkg.dev/colab-wheels/public/simple/\n",
            "Collecting secure-smtplib\n",
            "  Downloading secure_smtplib-0.1.1-py2.py3-none-any.whl (3.4 kB)\n",
            "Installing collected packages: secure-smtplib\n",
            "Successfully installed secure-smtplib-0.1.1\n"
          ]
        }
      ]
    },
    {
      "cell_type": "code",
      "execution_count": 2,
      "metadata": {
        "id": "fsOJCHxmDMUQ"
      },
      "outputs": [],
      "source": [
        "import pandas as pd\n",
        "import smtplib\n",
        "from email.mime.text import MIMEText"
      ]
    },
    {
      "cell_type": "code",
      "source": [
        "from google.colab import drive\n",
        "drive.mount('/content/drive')"
      ],
      "metadata": {
        "colab": {
          "base_uri": "https://localhost:8080/"
        },
        "id": "PtHSRC6fDzqI",
        "outputId": "8a90e2b1-dc60-43e6-c742-9d918189565f"
      },
      "execution_count": 3,
      "outputs": [
        {
          "output_type": "stream",
          "name": "stdout",
          "text": [
            "Mounted at /content/drive\n"
          ]
        }
      ]
    },
    {
      "cell_type": "code",
      "source": [
        "# Ouvrir le fichier CSV contenant les adresses e-mail\n",
        "emails_df = pd.read_excel('/content/drive/MyDrive/Envoie Email/RENOVATION 24_06_2022.xlsx',sheet_name='email')"
      ],
      "metadata": {
        "id": "yV9RZrnEDvGy"
      },
      "execution_count": 4,
      "outputs": []
    },
    {
      "cell_type": "code",
      "source": [
        "# Configuration de l'e-mail\n",
        "sender = 'juleschristian0@gmail.com'\n",
        "subject = \"Amélioration du prestige de l'ISSEA\"\n",
        "body = \"\"\"<html>\n",
        "          <head>\n",
        "          </head>\n",
        "          <body>Cher/Chère diplômé(e)s de l’ISSEA, nous espérons que notre message vous trouve en parfait état de santé et d’activité.<br><br>\n",
        "\n",
        "Etant ancien(e) élève de l’Institut, <strong>vous faites partie de l’une des entités les plus importantes</strong> du dispositif ISSEA. C’est pour cela que nous tenons à vous associer systématiquement dans les grandes réflexions concernant son évolution et son devenir.\n",
        "<br><br>\n",
        "Ainsi, afin d'élaborer une stratégie visant à améliorer les prestations de l'école qui est la nôtre, nous vous prions de consacrer de votre précieux temps pour le <strong>remplissage de ce formulaire.</strong> Ceci contribuera à aider la Direction Générale dans <strong>l’élaboration d’un plan stratégique robuste</strong> pour l’ISSEA. \n",
        "<br><br>\n",
        "Merci pour votre soutien.\n",
        "<br><br>\n",
        "<strong>Lien vers le formulaire :</strong> <a href=\"https://docs.google.com/forms/d/e/1FAIpQLSfD4NlmaF9C7qQmKqpAs3lKT9zte3kAs1YNW8J4fdKQVH9mqw/viewform?usp=sf_link\">Amélioration du prestige de l'ISSEA</a><br>\n",
        "</body>\n",
        "</html>\n",
        "\"\"\""
      ],
      "metadata": {
        "id": "WQXlJhFUGMB9"
      },
      "execution_count": 5,
      "outputs": []
    },
    {
      "cell_type": "code",
      "source": [
        "# Connexion au serveur SMTP\n",
        "server = smtplib.SMTP('smtp.gmail.com', 587)\n",
        "server.starttls()\n",
        "server.login(sender, 'rswtytzhjrzbtmkz') #Mot de passe d'application"
      ],
      "metadata": {
        "colab": {
          "base_uri": "https://localhost:8080/"
        },
        "id": "VER1JUiUGOE8",
        "outputId": "574de64b-86a3-48e8-b4c7-73f959924fa9"
      },
      "execution_count": 6,
      "outputs": [
        {
          "output_type": "execute_result",
          "data": {
            "text/plain": [
              "(235, b'2.7.0 Accepted')"
            ]
          },
          "metadata": {},
          "execution_count": 6
        }
      ]
    },
    {
      "cell_type": "code",
      "source": [
        "# Envoi de l'e-mail à chaque adresse e-mail dans le DataFrame\n",
        "for index, row in emails_df.iterrows():\n",
        "    recipient = row['email']\n",
        "    message = MIMEText(body)\n",
        "    message['From'] = sender\n",
        "    message['To'] = recipient\n",
        "    message['Subject'] = subject\n",
        "    server.sendmail(sender, recipient, message.as_string())\n",
        "\n",
        "# Fermeture de la connexion SMTP\n",
        "server.quit()"
      ],
      "metadata": {
        "id": "wfsCf8tgGR8-"
      },
      "execution_count": null,
      "outputs": []
    }
  ]
}