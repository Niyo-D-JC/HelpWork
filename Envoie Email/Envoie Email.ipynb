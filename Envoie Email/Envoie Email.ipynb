{
  "cells": [
    {
      "cell_type": "markdown",
      "metadata": {
        "id": "mtycryNvDlAv"
      },
      "source": [
        "**Importation des Bibliotheques**"
      ]
    },
    {
      "cell_type": "code",
      "execution_count": 1,
      "metadata": {
        "colab": {
          "base_uri": "https://localhost:8080/"
        },
        "id": "lDeLHRVmFeEk",
        "outputId": "0c4b5d36-f2fe-4e19-aaad-045cae169bd5"
      },
      "outputs": [
        {
          "name": "stdout",
          "output_type": "stream",
          "text": [
            "Looking in indexes: https://pypi.org/simple, https://us-python.pkg.dev/colab-wheels/public/simple/\n",
            "Collecting email-to\n",
            "  Downloading email_to-0.1.0-py2.py3-none-any.whl (7.1 kB)\n",
            "Requirement already satisfied: markdown in /usr/local/lib/python3.10/dist-packages (from email-to) (3.4.3)\n",
            "Collecting premailer (from email-to)\n",
            "  Downloading premailer-3.10.0-py2.py3-none-any.whl (19 kB)\n",
            "Requirement already satisfied: lxml in /usr/local/lib/python3.10/dist-packages (from premailer->email-to) (4.9.2)\n",
            "Collecting cssselect (from premailer->email-to)\n",
            "  Downloading cssselect-1.2.0-py2.py3-none-any.whl (18 kB)\n",
            "Collecting cssutils (from premailer->email-to)\n",
            "  Downloading cssutils-2.6.0-py3-none-any.whl (399 kB)\n",
            "\u001b[2K     \u001b[90m━━━━━━━━━━━━━━━━━━━━━━━━━━━━━━━━━━━━━━━\u001b[0m \u001b[32m399.7/399.7 kB\u001b[0m \u001b[31m7.2 MB/s\u001b[0m eta \u001b[36m0:00:00\u001b[0m\n",
            "\u001b[?25hRequirement already satisfied: requests in /usr/local/lib/python3.10/dist-packages (from premailer->email-to) (2.27.1)\n",
            "Requirement already satisfied: cachetools in /usr/local/lib/python3.10/dist-packages (from premailer->email-to) (5.3.0)\n",
            "Requirement already satisfied: urllib3<1.27,>=1.21.1 in /usr/local/lib/python3.10/dist-packages (from requests->premailer->email-to) (1.26.15)\n",
            "Requirement already satisfied: certifi>=2017.4.17 in /usr/local/lib/python3.10/dist-packages (from requests->premailer->email-to) (2022.12.7)\n",
            "Requirement already satisfied: charset-normalizer~=2.0.0 in /usr/local/lib/python3.10/dist-packages (from requests->premailer->email-to) (2.0.12)\n",
            "Requirement already satisfied: idna<4,>=2.5 in /usr/local/lib/python3.10/dist-packages (from requests->premailer->email-to) (3.4)\n",
            "Installing collected packages: cssutils, cssselect, premailer, email-to\n",
            "Successfully installed cssselect-1.2.0 cssutils-2.6.0 email-to-0.1.0 premailer-3.10.0\n",
            "Looking in indexes: https://pypi.org/simple, https://us-python.pkg.dev/colab-wheels/public/simple/\n",
            "Collecting secure-smtplib\n",
            "  Downloading secure_smtplib-0.1.1-py2.py3-none-any.whl (3.4 kB)\n",
            "Installing collected packages: secure-smtplib\n",
            "Successfully installed secure-smtplib-0.1.1\n"
          ]
        }
      ],
      "source": [
        "! pip install email-to\n",
        "! pip install secure-smtplib"
      ]
    },
    {
      "cell_type": "code",
      "execution_count": 2,
      "metadata": {
        "id": "fsOJCHxmDMUQ"
      },
      "outputs": [],
      "source": [
        "import pandas as pd\n",
        "import smtplib\n",
        "from email.mime.text import MIMEText"
      ]
    },
    {
      "cell_type": "code",
      "execution_count": 3,
      "metadata": {
        "colab": {
          "base_uri": "https://localhost:8080/"
        },
        "id": "PtHSRC6fDzqI",
        "outputId": "8a90e2b1-dc60-43e6-c742-9d918189565f"
      },
      "outputs": [
        {
          "name": "stdout",
          "output_type": "stream",
          "text": [
            "Mounted at /content/drive\n"
          ]
        }
      ],
      "source": [
        "from google.colab import drive\n",
        "drive.mount('/content/drive')"
      ]
    },
    {
      "cell_type": "code",
      "execution_count": 4,
      "metadata": {
        "id": "yV9RZrnEDvGy"
      },
      "outputs": [],
      "source": [
        "# Ouvrir le fichier CSV contenant les adresses e-mail\n",
        "emails_df = pd.read_excel('/content/drive/MyDrive/Envoie Email/RENOVATION 24_06_2022.xlsx',sheet_name='email')"
      ]
    },
    {
      "cell_type": "code",
      "execution_count": 5,
      "metadata": {
        "id": "WQXlJhFUGMB9"
      },
      "outputs": [],
      "source": [
        "# Configuration de l'e-mail\n",
        "sender = 'juleschristian0@gmail.com'\n",
        "subject = \"Amélioration\"\n",
        "body = \"\"\"<html>\n",
        "          <head>\n",
        "          </head>\n",
        "          <body></body>\n",
        "</html>\n",
        "\"\"\""
      ]
    },
    {
      "cell_type": "code",
      "execution_count": 6,
      "metadata": {
        "colab": {
          "base_uri": "https://localhost:8080/"
        },
        "id": "VER1JUiUGOE8",
        "outputId": "574de64b-86a3-48e8-b4c7-73f959924fa9"
      },
      "outputs": [
        {
          "data": {
            "text/plain": [
              "(235, b'2.7.0 Accepted')"
            ]
          },
          "execution_count": 6,
          "metadata": {},
          "output_type": "execute_result"
        }
      ],
      "source": [
        "# Connexion au serveur SMTP\n",
        "server = smtplib.SMTP('smtp.gmail.com', 587)\n",
        "server.starttls()\n",
        "server.login(sender, 'r--s-wt---z') #Mot de passe d'application"
      ]
    },
    {
      "cell_type": "code",
      "execution_count": null,
      "metadata": {
        "id": "wfsCf8tgGR8-"
      },
      "outputs": [],
      "source": [
        "# Envoi de l'e-mail à chaque adresse e-mail dans le DataFrame\n",
        "for index, row in emails_df.iterrows():\n",
        "    recipient = row['email']\n",
        "    message = MIMEText(body)\n",
        "    message['From'] = sender\n",
        "    message['To'] = recipient\n",
        "    message['Subject'] = subject\n",
        "    server.sendmail(sender, recipient, message.as_string())\n",
        "\n",
        "# Fermeture de la connexion SMTP\n",
        "server.quit()"
      ]
    }
  ],
  "metadata": {
    "colab": {
      "provenance": []
    },
    "kernelspec": {
      "display_name": "Python 3",
      "name": "python3"
    },
    "language_info": {
      "name": "python"
    }
  },
  "nbformat": 4,
  "nbformat_minor": 0
}
