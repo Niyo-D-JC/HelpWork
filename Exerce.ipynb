{
 "cells": [
  {
   "cell_type": "code",
   "execution_count": 1,
   "id": "668d73df-b279-494b-8201-e893736b92fe",
   "metadata": {},
   "outputs": [],
   "source": [
    "import pandas as pd\n",
    "import numpy as np"
   ]
  },
  {
   "cell_type": "code",
   "execution_count": 14,
   "id": "1d916526-2a2d-49c3-a078-1ff61cbe78cd",
   "metadata": {},
   "outputs": [],
   "source": [
    "a = np.random.normal( 0 , 1, size  = (100,3))\n",
    "b = np.random.randint(1,20, size = (100,))"
   ]
  },
  {
   "cell_type": "code",
   "execution_count": 16,
   "id": "29a73a30-a3e5-4d84-a215-fdd4e4e07ea7",
   "metadata": {},
   "outputs": [
    {
     "data": {
      "text/plain": [
       "((100, 3), (100,), (100, 1))"
      ]
     },
     "execution_count": 16,
     "metadata": {},
     "output_type": "execute_result"
    }
   ],
   "source": [
    "a.shape, b.shape, b.reshape((b.shape[0],1)).shape"
   ]
  },
  {
   "cell_type": "code",
   "execution_count": 20,
   "id": "10d6e794-7aae-4005-90b9-e4892b28f572",
   "metadata": {},
   "outputs": [],
   "source": [
    "pandas_a = pd.DataFrame(a, columns=['1','2','3'])\n",
    "pandas_b = pd.DataFrame(b, columns=['4'])"
   ]
  },
  {
   "cell_type": "code",
   "execution_count": 23,
   "id": "61245b68-0f67-41b1-b3e5-accf16ff0d39",
   "metadata": {},
   "outputs": [
    {
     "name": "stdout",
     "output_type": "stream",
     "text": [
      "Inner Join:\n",
      "    id      nom  age\n",
      "0   3  Charlie   23\n",
      "1   4    David   34\n",
      "\n",
      "Left Join:\n",
      "    id      nom   age\n",
      "0   1    Alice   NaN\n",
      "1   2      Bob   NaN\n",
      "2   3  Charlie  23.0\n",
      "3   4    David  34.0\n",
      "\n",
      "Right Join:\n",
      "    id      nom  age\n",
      "0   3  Charlie   23\n",
      "1   4    David   34\n",
      "2   5      NaN   45\n",
      "3   6      NaN   56\n"
     ]
    }
   ],
   "source": [
    "import pandas as pd\n",
    "\n",
    "# Création des deux DataFrames\n",
    "df1 = pd.DataFrame({\n",
    "    'id': [1, 2, 3, 4],\n",
    "    'nom': ['Alice', 'Bob', 'Charlie', 'David']\n",
    "})\n",
    "\n",
    "df2 = pd.DataFrame({\n",
    "    'id': [3, 4, 5, 6],\n",
    "    'age': [23, 34, 45, 56]\n",
    "})\n",
    "\n",
    "# Jointure Inner (intersection des deux DataFrames)\n",
    "inner_join = pd.merge(df1, df2, on='id', how='inner')\n",
    "\n",
    "# Jointure Gauche (toutes les lignes de df1, même si pas de correspondance dans df2)\n",
    "left_join = pd.merge(df1, df2, on='id', how='left')\n",
    "\n",
    "# Jointure Droite (toutes les lignes de df2, même si pas de correspondance dans df1)\n",
    "right_join = pd.merge(df1, df2, on='id', how='right')\n",
    "\n",
    "# Afficher les résultats\n",
    "print(\"Inner Join:\\n\", inner_join)\n",
    "print(\"\\nLeft Join:\\n\", left_join)\n",
    "print(\"\\nRight Join:\\n\", right_join)"
   ]
  },
  {
   "cell_type": "code",
   "execution_count": 24,
   "id": "6d1fa2b9-5303-490d-b3f1-fb2e150a455f",
   "metadata": {},
   "outputs": [
    {
     "name": "stdout",
     "output_type": "stream",
     "text": [
      "Inner Join:\n",
      "    id_personne      nom  id_individu  age\n",
      "0            3  Charlie            3   23\n",
      "1            4    David            4   34\n",
      "\n",
      "Left Join:\n",
      "    id_personne      nom  id_individu   age\n",
      "0            1    Alice          NaN   NaN\n",
      "1            2      Bob          NaN   NaN\n",
      "2            3  Charlie          3.0  23.0\n",
      "3            4    David          4.0  34.0\n",
      "\n",
      "Right Join:\n",
      "    id_personne      nom  id_individu  age\n",
      "0          3.0  Charlie            3   23\n",
      "1          4.0    David            4   34\n",
      "2          NaN      NaN            5   45\n",
      "3          NaN      NaN            6   56\n"
     ]
    }
   ],
   "source": [
    "import pandas as pd\n",
    "\n",
    "# Création des deux DataFrames avec des noms de colonnes différents\n",
    "df1 = pd.DataFrame({\n",
    "    'id_personne': [1, 2, 3, 4],\n",
    "    'nom': ['Alice', 'Bob', 'Charlie', 'David']\n",
    "})\n",
    "\n",
    "df2 = pd.DataFrame({\n",
    "    'id_individu': [3, 4, 5, 6],\n",
    "    'age': [23, 34, 45, 56]\n",
    "})\n",
    "\n",
    "# Jointure Inner (intersection des deux DataFrames)\n",
    "inner_join = pd.merge(df1, df2, left_on='id_personne', right_on='id_individu', how='inner')\n",
    "\n",
    "# Jointure Gauche (toutes les lignes de df1, même si pas de correspondance dans df2)\n",
    "left_join = pd.merge(df1, df2, left_on='id_personne', right_on='id_individu', how='left')\n",
    "\n",
    "# Jointure Droite (toutes les lignes de df2, même si pas de correspondance dans df1)\n",
    "right_join = pd.merge(df1, df2, left_on='id_personne', right_on='id_individu', how='right')\n",
    "\n",
    "# Afficher les résultats\n",
    "print(\"Inner Join:\\n\", inner_join)\n",
    "print(\"\\nLeft Join:\\n\", left_join)\n",
    "print(\"\\nRight Join:\\n\", right_join)"
   ]
  },
  {
   "cell_type": "code",
   "execution_count": 41,
   "id": "9f9c3d56-fba4-4af7-b944-066e4bd2ad10",
   "metadata": {},
   "outputs": [
    {
     "data": {
      "text/html": [
       "<div>\n",
       "<style scoped>\n",
       "    .dataframe tbody tr th:only-of-type {\n",
       "        vertical-align: middle;\n",
       "    }\n",
       "\n",
       "    .dataframe tbody tr th {\n",
       "        vertical-align: top;\n",
       "    }\n",
       "\n",
       "    .dataframe thead th {\n",
       "        text-align: right;\n",
       "    }\n",
       "</style>\n",
       "<table border=\"1\" class=\"dataframe\">\n",
       "  <thead>\n",
       "    <tr style=\"text-align: right;\">\n",
       "      <th></th>\n",
       "      <th>1</th>\n",
       "      <th>2</th>\n",
       "      <th>3</th>\n",
       "      <th>4</th>\n",
       "    </tr>\n",
       "  </thead>\n",
       "  <tbody>\n",
       "    <tr>\n",
       "      <th>0</th>\n",
       "      <td>-0.080130</td>\n",
       "      <td>0.656892</td>\n",
       "      <td>-0.620235</td>\n",
       "      <td>NaN</td>\n",
       "    </tr>\n",
       "    <tr>\n",
       "      <th>1</th>\n",
       "      <td>1.038732</td>\n",
       "      <td>1.797908</td>\n",
       "      <td>0.099740</td>\n",
       "      <td>NaN</td>\n",
       "    </tr>\n",
       "    <tr>\n",
       "      <th>2</th>\n",
       "      <td>1.007772</td>\n",
       "      <td>-0.059247</td>\n",
       "      <td>0.232895</td>\n",
       "      <td>NaN</td>\n",
       "    </tr>\n",
       "    <tr>\n",
       "      <th>3</th>\n",
       "      <td>-0.599243</td>\n",
       "      <td>-0.818630</td>\n",
       "      <td>1.527411</td>\n",
       "      <td>NaN</td>\n",
       "    </tr>\n",
       "    <tr>\n",
       "      <th>4</th>\n",
       "      <td>-0.963223</td>\n",
       "      <td>-0.569412</td>\n",
       "      <td>-0.758087</td>\n",
       "      <td>NaN</td>\n",
       "    </tr>\n",
       "    <tr>\n",
       "      <th>...</th>\n",
       "      <td>...</td>\n",
       "      <td>...</td>\n",
       "      <td>...</td>\n",
       "      <td>...</td>\n",
       "    </tr>\n",
       "    <tr>\n",
       "      <th>195</th>\n",
       "      <td>NaN</td>\n",
       "      <td>NaN</td>\n",
       "      <td>NaN</td>\n",
       "      <td>16.0</td>\n",
       "    </tr>\n",
       "    <tr>\n",
       "      <th>196</th>\n",
       "      <td>NaN</td>\n",
       "      <td>NaN</td>\n",
       "      <td>NaN</td>\n",
       "      <td>18.0</td>\n",
       "    </tr>\n",
       "    <tr>\n",
       "      <th>197</th>\n",
       "      <td>NaN</td>\n",
       "      <td>NaN</td>\n",
       "      <td>NaN</td>\n",
       "      <td>1.0</td>\n",
       "    </tr>\n",
       "    <tr>\n",
       "      <th>198</th>\n",
       "      <td>NaN</td>\n",
       "      <td>NaN</td>\n",
       "      <td>NaN</td>\n",
       "      <td>10.0</td>\n",
       "    </tr>\n",
       "    <tr>\n",
       "      <th>199</th>\n",
       "      <td>NaN</td>\n",
       "      <td>NaN</td>\n",
       "      <td>NaN</td>\n",
       "      <td>4.0</td>\n",
       "    </tr>\n",
       "  </tbody>\n",
       "</table>\n",
       "<p>200 rows × 4 columns</p>\n",
       "</div>"
      ],
      "text/plain": [
       "            1         2         3     4\n",
       "0   -0.080130  0.656892 -0.620235   NaN\n",
       "1    1.038732  1.797908  0.099740   NaN\n",
       "2    1.007772 -0.059247  0.232895   NaN\n",
       "3   -0.599243 -0.818630  1.527411   NaN\n",
       "4   -0.963223 -0.569412 -0.758087   NaN\n",
       "..        ...       ...       ...   ...\n",
       "195       NaN       NaN       NaN  16.0\n",
       "196       NaN       NaN       NaN  18.0\n",
       "197       NaN       NaN       NaN   1.0\n",
       "198       NaN       NaN       NaN  10.0\n",
       "199       NaN       NaN       NaN   4.0\n",
       "\n",
       "[200 rows x 4 columns]"
      ]
     },
     "execution_count": 41,
     "metadata": {},
     "output_type": "execute_result"
    }
   ],
   "source": [
    "pd.concat([pandas_a, pandas_b], axis=0).reset_index(drop=True)"
   ]
  },
  {
   "cell_type": "code",
   "execution_count": 39,
   "id": "bf09ef75-a786-4258-8310-47a56e7a1795",
   "metadata": {},
   "outputs": [],
   "source": [
    "a_b = np.concatenate((a,b.reshape((b.shape[0],1))), axis=1)"
   ]
  },
  {
   "cell_type": "code",
   "execution_count": 40,
   "id": "32d7cead-9682-464b-b9e6-f95d5a96c870",
   "metadata": {},
   "outputs": [
    {
     "data": {
      "text/plain": [
       "(100, 4)"
      ]
     },
     "execution_count": 40,
     "metadata": {},
     "output_type": "execute_result"
    }
   ],
   "source": [
    "a_b.shape"
   ]
  },
  {
   "cell_type": "code",
   "execution_count": null,
   "id": "f5dcf401-5df4-4a19-9558-f7d9d6ce1073",
   "metadata": {},
   "outputs": [],
   "source": []
  }
 ],
 "metadata": {
  "kernelspec": {
   "display_name": "Python 3 (ipykernel)",
   "language": "python",
   "name": "python3"
  },
  "language_info": {
   "codemirror_mode": {
    "name": "ipython",
    "version": 3
   },
   "file_extension": ".py",
   "mimetype": "text/x-python",
   "name": "python",
   "nbconvert_exporter": "python",
   "pygments_lexer": "ipython3",
   "version": "3.12.3"
  }
 },
 "nbformat": 4,
 "nbformat_minor": 5
}
